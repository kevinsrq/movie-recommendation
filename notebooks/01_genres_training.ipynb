{
 "cells": [
  {
   "attachments": {},
   "cell_type": "markdown",
   "metadata": {},
   "source": [
    "# Information retrieval for movies recommendation\n",
    "\n",
    "Database which the project it's based on:   \n",
    "[HBO Max](https://www.kaggle.com/datasets/dgoenrique/hbo-max-movies-and-tv-shows)  \n",
    "\n",
    "<div></div> "
   ]
  },
  {
   "cell_type": "code",
   "execution_count": 55,
   "metadata": {},
   "outputs": [],
   "source": [
    "import numpy as np \n",
    "import pandas as pd\n",
    "from toolbox import preprocessing\n",
    "import ast"
   ]
  },
  {
   "cell_type": "code",
   "execution_count": 56,
   "metadata": {},
   "outputs": [],
   "source": [
    "# load\n",
    "try: \n",
    "    pop_movies = pd.read_csv('../data/modified/popular_movies.csv.zip')['tmdbId']\n",
    "except: \n",
    "# Load the \"rating\" and \"link\" with the id from multiple sources\n",
    "    ratings = pd.read_csv('../data/origin/ratings.zip')\n",
    "    links = pd.read_csv('../data/origin/links.zip')\n",
    "\n",
    "    # Inner join between both files\n",
    "    ratings = ratings.merge(links, how='inner', on='movieId')\n",
    "\n",
    "    # Select only the movies with at least 750 reviews, to classify as popular enough for recommendation\n",
    "    pop_movies = ratings['movieId'].value_counts().to_frame().query('count > 50').index\n",
    "    pop_movies = links.query('movieId in @pop_movies')['tmdbId'].dropna()\n",
    "\n",
    "    pop_movies.to_csv('../data/modified/popular_movies.csv.zip', index=False, compression='zip')\n",
    "\n",
    "    del ratings, links"
   ]
  },
  {
   "attachments": {},
   "cell_type": "markdown",
   "metadata": {},
   "source": [
    "<div></div> \n",
    "\n",
    "## Leitura dos Arquivos\n",
    "\n",
    "As bases vieram em formato CSV, portanto, só foi utilizado o pandas para leitura e feito um concat\n",
    "\n",
    "<div></div> "
   ]
  },
  {
   "cell_type": "code",
   "execution_count": 57,
   "metadata": {},
   "outputs": [
    {
     "name": "stderr",
     "output_type": "stream",
     "text": [
      "C:\\Users\\kevin\\AppData\\Local\\Temp\\ipykernel_18516\\1593278502.py:5: DtypeWarning: Columns (10) have mixed types. Specify dtype option on import or set low_memory=False.\n",
      "  dt_m = pd.read_csv('../data/origin/movies_metadata.zip')\n"
     ]
    }
   ],
   "source": [
    "# Load the 'credits' dataset from a zipped CSV file\n",
    "dt_c = pd.read_csv('../data/origin/credits.zip')\n",
    "\n",
    "# Load the 'movies_metadata' dataset from a zipped CSV file\n",
    "dt_m = pd.read_csv('../data/origin/movies_metadata.zip')\n",
    "\n",
    "# Convert the 'id' column to numeric data type, ignoring any errors\n",
    "dt_m['id'] = pd.to_numeric(dt_m['id'], errors='coerce')\n",
    "\n",
    "# Convert the 'popularity' column to numeric data type, ignoring any errors\n",
    "dt_m['popularity'] = pd.to_numeric(dt_m['popularity'], errors='coerce')\n",
    "\n",
    "# Merge the 'movies_metadata' DataFrame with the 'credits' DataFrame based on the 'id' column\n",
    "dt_m = dt_m.merge(dt_c.set_index('id'), how='left', left_on=['id'], right_index=True)\n",
    "\n",
    "# Drop rows with missing values in the 'id' column\n",
    "dt_m.dropna(subset=['id', 'overview'], inplace=True)\n",
    "\n",
    "# Select the movies with the minimun engagement\n",
    "dt_m.query('id in @pop_movies', inplace=True)\n",
    "\n",
    "# Reset index \n",
    "dt_m.reset_index(drop=True, inplace=True)\n",
    "\n",
    "# Delete the 'credits' DataFrame to free up memory\n",
    "del dt_c"
   ]
  },
  {
   "cell_type": "code",
   "execution_count": 58,
   "metadata": {},
   "outputs": [],
   "source": [
    "# Define the variables\n",
    "v = 'vote_count'  # Vote count column\n",
    "m = 'vote_count.quantile(0.85)'  # Quantile of vote count\n",
    "R = 'vote_average'  # Vote average column\n",
    "C = 'vote_average.mean()'  # Mean of vote average\n",
    "\n",
    "# Evaluate the score using the defined variables and assign it to a new column 'score'\n",
    "dt_m.eval(f'score = ({v}/({v}+{m}) * {R}) + ({m}/({m}+{v}) * {C})', inplace=True)\n",
    "\n",
    "del v, m, R, C"
   ]
  },
  {
   "cell_type": "code",
   "execution_count": 59,
   "metadata": {},
   "outputs": [],
   "source": [
    "dt_m.drop(['homepage', 'original_title', 'poster_path'], axis=1, inplace=True, errors='ignore')"
   ]
  },
  {
   "cell_type": "code",
   "execution_count": 60,
   "metadata": {},
   "outputs": [],
   "source": [
    "dt_m['genres'] = dt_m['genres'].map(lambda genres: [genre.get('name').lower() for genre in ast.literal_eval(genres)])\n",
    "dt_m['genres'] = dt_m['genres'].map(lambda genres: [genre.replace(' ', '_') for genre in genres])"
   ]
  },
  {
   "cell_type": "code",
   "execution_count": 61,
   "metadata": {},
   "outputs": [
    {
     "data": {
      "text/plain": [
       "genres\n",
       "drama              6408\n",
       "comedy             4499\n",
       "thriller           2814\n",
       "romance            2478\n",
       "action             2405\n",
       "crime              1673\n",
       "adventure          1552\n",
       "horror             1377\n",
       "science_fiction    1222\n",
       "family             1134\n",
       "fantasy             976\n",
       "mystery             918\n",
       "animation           651\n",
       "documentary         582\n",
       "music               537\n",
       "history             494\n",
       "war                 412\n",
       "western             249\n",
       "foreign             147\n",
       "tv_movie             71\n",
       "Name: count, dtype: int64"
      ]
     },
     "execution_count": 61,
     "metadata": {},
     "output_type": "execute_result"
    }
   ],
   "source": [
    "dt_m['genres'].explode().value_counts()"
   ]
  },
  {
   "attachments": {},
   "cell_type": "markdown",
   "metadata": {},
   "source": [
    "### Identificação das query / docs\n",
    "\n",
    "Foi feita uma separação do index das query, para pode fazer uma localização do na base origina após o TF-IDF, dado que o TF-IDF reseta os index dos termos por documento"
   ]
  },
  {
   "cell_type": "code",
   "execution_count": 62,
   "metadata": {},
   "outputs": [],
   "source": [
    "import multiprocessing as mp\n",
    "from gensim.models import Word2Vec\n"
   ]
  },
  {
   "cell_type": "code",
   "execution_count": 63,
   "metadata": {},
   "outputs": [],
   "source": [
    "genres = dt_m['genres'].to_list()"
   ]
  },
  {
   "cell_type": "code",
   "execution_count": 119,
   "metadata": {},
   "outputs": [
    {
     "data": {
      "text/plain": [
       "[('science_fiction', 0.9788143634796143),\n",
       " ('fantasy', 0.9660441875457764),\n",
       " ('drama', 0.9657939672470093),\n",
       " ('animation', 0.9653182625770569),\n",
       " ('crime', 0.96053147315979),\n",
       " ('comedy', 0.9595752954483032),\n",
       " ('action', 0.9580628275871277),\n",
       " ('horror', 0.9521360993385315),\n",
       " ('adventure', 0.9518252015113831),\n",
       " ('thriller', 0.9489524960517883),\n",
       " ('music', 0.9487782120704651),\n",
       " ('family', 0.9416791200637817),\n",
       " ('mystery', 0.935806393623352),\n",
       " ('history', 0.9139103889465332),\n",
       " ('war', 0.8972750902175903),\n",
       " ('tv_movie', 0.888428807258606),\n",
       " ('western', 0.8747095465660095),\n",
       " ('foreign', 0.6696580052375793),\n",
       " ('documentary', 0.6088672280311584)]"
      ]
     },
     "execution_count": 119,
     "metadata": {},
     "output_type": "execute_result"
    }
   ],
   "source": [
    "model = Word2Vec(min_count=1,\n",
    "                 window=5,\n",
    "                 vector_size=15,\n",
    "                 sample=5e-6, \n",
    "                 alpha=0.002, \n",
    "                 negative=50,\n",
    "                 workers=mp.cpu_count()-1, \n",
    "                 seed=42, \n",
    "                 sg=1)\n",
    "\n",
    "model.build_vocab(genres)\n",
    "model.train(genres, total_examples=model.corpus_count, epochs=500, report_delay=1)\n",
    "\n",
    "model.wv.most_similar(positive='romance', topn=20)"
   ]
  },
  {
   "cell_type": "code",
   "execution_count": 120,
   "metadata": {},
   "outputs": [
    {
     "data": {
      "image/png": "[encoded data removed]",
      "text/plain": [
       "<Figure size 800x800 with 1 Axes>"
      ]
     },
     "metadata": {},
     "output_type": "display_data"
    }
   ],
   "source": [
    "import matplotlib.pyplot as plt\n",
    "from sklearn.decomposition import PCA\n",
    "from sklearn.manifold import TSNE\n",
    "\n",
    "def basic_plot(model, target:str, perp):\n",
    "        word_vectors = model.wv.vectors\n",
    "        words = model.wv.index_to_key\n",
    "\n",
    "        pca = PCA(n_components=6, random_state=42)\n",
    "        wv_pca = pca.fit_transform(word_vectors)\n",
    "\n",
    "        tsne = TSNE(n_components=2, random_state=42, perplexity=perp)\n",
    "        wv_ts = tsne.fit_transform(wv_pca) \n",
    "\n",
    "        plot_df = pd.DataFrame({'word': words, \n",
    "                                'x': wv_ts[:, 0], \n",
    "                                'y': wv_ts[:, 1]})\n",
    "\n",
    "        color_rule = [g[0] for g in model.wv.most_similar(target)]\n",
    "\n",
    "        when = [plot_df['word'].isin(color_rule), \n",
    "                plot_df['word']==target]\n",
    "        then = ['green', 'blue']\n",
    "\n",
    "        plot_df['color'] = np.select(when, then, default='red')\n",
    "\n",
    "        plt.figure(figsize=(8, 8))\n",
    "        plt.scatter(x=plot_df['x'], \n",
    "                    y=plot_df['y'], \n",
    "                    c=plot_df['color'])\n",
    "        for x, y, word in zip(plot_df['x'], plot_df['y'], plot_df['word']): \n",
    "                plt.annotate(word, xy=(x,y), xytext=(0, 15), textcoords='offset points', ha='center', va='top')\n",
    "        plt.show()\n",
    "        \n",
    "\n",
    "basic_plot(model=model, target='romance', perp=8)"
   ]
  },
  {
   "cell_type": "code",
   "execution_count": 90,
   "metadata": {},
   "outputs": [],
   "source": [
    "model.save('../models/genres_model')"
   ]
  }
 ],
 "metadata": {
  "kernelspec": {
   "display_name": "Python 3",
   "language": "python",
   "name": "python3"
  },
  "language_info": {
   "codemirror_mode": {
    "name": "ipython",
    "version": 3
   },
   "file_extension": ".py",
   "mimetype": "text/x-python",
   "name": "python",
   "nbconvert_exporter": "python",
   "pygments_lexer": "ipython3",
   "version": "3.11.1"
  },
  "orig_nbformat": 4
 },
 "nbformat": 4,
 "nbformat_minor": 2
}
